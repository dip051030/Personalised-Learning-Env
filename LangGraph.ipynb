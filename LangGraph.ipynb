{
 "cells": [
  {
   "metadata": {
    "ExecuteTime": {
     "end_time": "2025-07-17T07:58:17.286663Z",
     "start_time": "2025-07-17T07:58:15.735166Z"
    }
   },
   "cell_type": "code",
   "source": [
    "from langchain_google_genai import ChatGoogleGenerativeAI\n",
    "import google.generativeai as genai\n",
    "from dotenv import load_dotenv\n",
    "import os\n",
    "\n",
    "from rich.jupyter import display\n",
    "from sqlalchemy.dialects.mssql import IMAGE\n",
    "\n",
    "load_dotenv()\n",
    "api = genai.configure(api_key=os.getenv(\"GOOGLE_API_KEY\"))\n",
    "\n",
    "llm = ChatGoogleGenerativeAI(\n",
    "    model=\"gemini-2.0-flash\",\n",
    "    temperature=0.2\n",
    "\n",
    ")\n",
    "print(llm.invoke(\"Hello, how are you?\").content)"
   ],
   "id": "805f789633e184c5",
   "outputs": [
    {
     "name": "stdout",
     "output_type": "stream",
     "text": [
      "I am doing well, thank you for asking! As a large language model, I don't experience emotions or feelings in the same way humans do, but I am functioning optimally and ready to assist you. How can I help you today?\n"
     ]
    }
   ],
   "execution_count": 23
  },
  {
   "metadata": {
    "ExecuteTime": {
     "end_time": "2025-07-17T07:58:19.680583Z",
     "start_time": "2025-07-17T07:58:19.677463Z"
    }
   },
   "cell_type": "code",
   "source": [
    "from typing import TypedDict\n",
    "\n",
    "class State(TypedDict):\n",
    "    name: str\n",
    "    age: int\n",
    "\n",
    "\n",
    "def greet(state: State) -> str:\n",
    "    return f\"Hello {state['name']}, you are {state['age']} years old.\""
   ],
   "id": "7a9668a08cbc68e8",
   "outputs": [],
   "execution_count": 24
  },
  {
   "metadata": {
    "ExecuteTime": {
     "end_time": "2025-07-17T07:58:20.023587Z",
     "start_time": "2025-07-17T07:58:20.021179Z"
    }
   },
   "cell_type": "code",
   "source": [
    "from langgraph.graph import START, END, StateGraph\n",
    "\n",
    "builder = StateGraph(State)\n",
    "builder.add_node('greet', greet)"
   ],
   "id": "2e2568f7d6f84c93",
   "outputs": [
    {
     "data": {
      "text/plain": [
       "<langgraph.graph.state.StateGraph at 0x7c65218ac680>"
      ]
     },
     "execution_count": 25,
     "metadata": {},
     "output_type": "execute_result"
    }
   ],
   "execution_count": 25
  },
  {
   "metadata": {
    "ExecuteTime": {
     "end_time": "2025-07-17T08:01:44.882929Z",
     "start_time": "2025-07-17T08:01:44.880766Z"
    }
   },
   "cell_type": "code",
   "source": [
    "builder.add_edge(START, 'greet')\n",
    "builder.add_edge('greet', END)"
   ],
   "id": "8930461b8f4a11ee",
   "outputs": [
    {
     "data": {
      "text/plain": [
       "<langgraph.graph.state.StateGraph at 0x7c65218ac680>"
      ]
     },
     "execution_count": 29,
     "metadata": {},
     "output_type": "execute_result"
    }
   ],
   "execution_count": 29
  },
  {
   "metadata": {
    "ExecuteTime": {
     "end_time": "2025-07-17T08:03:30.685915Z",
     "start_time": "2025-07-17T08:03:30.675434Z"
    }
   },
   "cell_type": "code",
   "source": [
    "from IPython.core.display import Image\n",
    "\n",
    "graph = builder.compile()\n",
    "display(Image(graph.get_graph().draw_mermaid_png()))"
   ],
   "id": "84fd27f54366e27e",
   "outputs": [
    {
     "ename": "ModuleNotFoundError",
     "evalue": "No module named 'langchain_core.runnables.graph_mermaid'",
     "output_type": "error",
     "traceback": [
      "\u001B[31m---------------------------------------------------------------------------\u001B[39m",
      "\u001B[31mModuleNotFoundError\u001B[39m                       Traceback (most recent call last)",
      "\u001B[36mCell\u001B[39m\u001B[36m \u001B[39m\u001B[32mIn[33]\u001B[39m\u001B[32m, line 5\u001B[39m\n\u001B[32m      1\u001B[39m \u001B[38;5;28;01mfrom\u001B[39;00m\u001B[38;5;250m \u001B[39m\u001B[34;01mIPython\u001B[39;00m\u001B[34;01m.\u001B[39;00m\u001B[34;01mcore\u001B[39;00m\u001B[34;01m.\u001B[39;00m\u001B[34;01mdisplay\u001B[39;00m\u001B[38;5;250m \u001B[39m\u001B[38;5;28;01mimport\u001B[39;00m Image\n\u001B[32m      3\u001B[39m graph = builder.compile()\n\u001B[32m----> \u001B[39m\u001B[32m5\u001B[39m display(Image(graph.get_graph().draw_mermaid_png()))\n",
      "\u001B[36mFile \u001B[39m\u001B[32m~/miniconda3/lib/python3.12/site-packages/langchain_core/runnables/graph.py:685\u001B[39m, in \u001B[36mdraw_mermaid_png\u001B[39m\u001B[34m(self, curve_style, node_colors, wrap_label_n_words, output_file_path, draw_method, background_color, padding, max_retries, retry_delay, frontmatter_config)\u001B[39m\n",
      "\u001B[31mModuleNotFoundError\u001B[39m: No module named 'langchain_core.runnables.graph_mermaid'"
     ]
    }
   ],
   "execution_count": 33
  }
 ],
 "metadata": {
  "kernelspec": {
   "display_name": "Python 3",
   "language": "python",
   "name": "python3"
  },
  "language_info": {
   "codemirror_mode": {
    "name": "ipython",
    "version": 2
   },
   "file_extension": ".py",
   "mimetype": "text/x-python",
   "name": "python",
   "nbconvert_exporter": "python",
   "pygments_lexer": "ipython2",
   "version": "2.7.6"
  }
 },
 "nbformat": 4,
 "nbformat_minor": 5
}
